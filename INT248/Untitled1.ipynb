{
 "cells": [
  {
   "cell_type": "code",
   "execution_count": 2,
   "id": "168d6eec",
   "metadata": {},
   "outputs": [
    {
     "name": "stdout",
     "output_type": "stream",
     "text": [
      "5\n",
      "5 4 3 2 1\n",
      "0\n"
     ]
    }
   ],
   "source": [
    "n = int(input())\n",
    "levels = list(map(int,input().split()))\n",
    "\n",
    "cnt = 1\n",
    "for i in range(n):\n",
    "     for j in range(i + 1, n) :\n",
    "            if arr[j] > arr[j - 1] :\n",
    "                cnt += 1\n",
    "            else:\n",
    "                break\n",
    "     \n",
    "print(cnt)"
   ]
  },
  {
   "cell_type": "code",
   "execution_count": null,
   "id": "f5475a4d",
   "metadata": {},
   "outputs": [],
   "source": [
    "n = int(input(\"Enter the size of array: \"))\n",
    "k = int(input(\"How many element do you want to insert into array: \"))\n",
    "arr = list(map(int,input().split()))\n",
    "for i in range(k):\n",
    "  arr.append(0)\n",
    "print(arr)\n",
    "n1 = int(input(\"Enter the number you want to insert: \"))\n",
    "if n1>n:\n",
    "    index = n%n1\n",
    "else:\n",
    "    index = n\n",
    "print(index)\n",
    "arr = arr[:index]+[n1]+arr[index+1:]\n"
   ]
  },
  {
   "cell_type": "code",
   "execution_count": null,
   "id": "9d00df14",
   "metadata": {},
   "outputs": [],
   "source": []
  }
 ],
 "metadata": {
  "kernelspec": {
   "display_name": "Python 3 (ipykernel)",
   "language": "python",
   "name": "python3"
  },
  "language_info": {
   "codemirror_mode": {
    "name": "ipython",
    "version": 3
   },
   "file_extension": ".py",
   "mimetype": "text/x-python",
   "name": "python",
   "nbconvert_exporter": "python",
   "pygments_lexer": "ipython3",
   "version": "3.9.7"
  }
 },
 "nbformat": 4,
 "nbformat_minor": 5
}
