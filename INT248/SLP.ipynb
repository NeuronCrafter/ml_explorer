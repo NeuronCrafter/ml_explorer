{
 "cells": [
  {
   "cell_type": "code",
   "execution_count": 1,
   "metadata": {
    "id": "imWqWLUohMYF"
   },
   "outputs": [],
   "source": [
    "import tensorflow as tf\n",
    "import numpy as np"
   ]
  },
  {
   "cell_type": "code",
   "execution_count": 2,
   "metadata": {
    "colab": {
     "base_uri": "https://localhost:8080/"
    },
    "id": "tAWRvsccjemw",
    "outputId": "15104fb2-eca5-4a85-f4e0-a5397a4ef5b2"
   },
   "outputs": [
    {
     "data": {
      "text/plain": [
       "array([[0.],\n",
       "       [0.],\n",
       "       [0.],\n",
       "       [1.]])"
      ]
     },
     "execution_count": 2,
     "metadata": {},
     "output_type": "execute_result"
    }
   ],
   "source": [
    "tf.compat.v1.disable_eager_execution()\n",
    "data_input_x = np.array([[0.0,0.0],[0.0,1.0],[1.0,0.0],[1.0,1.0]])\n",
    "data_input_x\n",
    "data_input_y=np.array([[0.0],[0.0],[0.0],[1.0]])\n",
    "data_input_y"
   ]
  },
  {
   "cell_type": "code",
   "execution_count": 3,
   "metadata": {
    "id": "slK4jXDokgaP"
   },
   "outputs": [],
   "source": [
    "def step_function(sum_value):\n",
    "  return tf.cast(tf.compat.v1.to_float(tf.math.greater_equal(sum_value,1)), tf.float64)"
   ]
  },
  {
   "cell_type": "code",
   "execution_count": 4,
   "metadata": {
    "colab": {
     "base_uri": "https://localhost:8080/"
    },
    "id": "fM239CZLmbty",
    "outputId": "e3d77161-68b3-4933-88f5-d99de9f69487"
   },
   "outputs": [
    {
     "name": "stdout",
     "output_type": "stream",
     "text": [
      "WARNING:tensorflow:From C:\\Users\\navin\\Envs\\jupyter\\lib\\site-packages\\tensorflow\\python\\util\\dispatch.py:1082: to_float (from tensorflow.python.ops.math_ops) is deprecated and will be removed in a future version.\n",
      "Instructions for updating:\n",
      "Use `tf.cast` instead.\n"
     ]
    }
   ],
   "source": [
    "Weights = tf.Variable(tf.zeros([2,1],dtype=tf.float64))\n",
    "output_layer = tf.matmul(data_input_x,Weights)\n",
    "predictions = step_function(output_layer)"
   ]
  },
  {
   "cell_type": "code",
   "execution_count": 5,
   "metadata": {
    "id": "tJs9ZQLKnXVu"
   },
   "outputs": [],
   "source": [
    "error=tf.subtract(data_input_y, predictions)\n",
    "\n",
    "delta = tf.matmul(data_input_x, error, transpose_a=True)\n",
    "\n",
    "learning_rate = 0.1\n",
    "train = tf.compat.v1.assign(Weights, tf.multiply(delta, learning_rate))\n",
    "init = tf.compat.v1.global_variables_initializer()\n"
   ]
  },
  {
   "cell_type": "code",
   "execution_count": 6,
   "metadata": {
    "colab": {
     "base_uri": "https://localhost:8080/"
    },
    "id": "4xoRm6yDp9ZQ",
    "outputId": "e013c2b4-6880-42b4-cfcb-d51439cde422"
   },
   "outputs": [
    {
     "name": "stdout",
     "output_type": "stream",
     "text": [
      "Output layer result: \n",
      " [[0.]\n",
      " [0.]\n",
      " [0.]\n",
      " [0.]]\n",
      "Prediction result: \n",
      " [[0.]\n",
      " [0.]\n",
      " [0.]\n",
      " [0.]]\n",
      "Error result: \n",
      "  [[0.]\n",
      " [0.]\n",
      " [0.]\n",
      " [1.]]\n",
      "\n",
      "\n",
      "Epoch:  1 - Error: 1.0\n",
      "Epoch:  2 - Error: 1.0\n",
      "Epoch:  3 - Error: 1.0\n",
      "Epoch:  4 - Error: 1.0\n",
      "Epoch:  5 - Error: 1.0\n",
      "Epoch:  6 - Error: 1.0\n",
      "Epoch:  7 - Error: 1.0\n",
      "Epoch:  8 - Error: 1.0\n",
      "Epoch:  9 - Error: 1.0\n",
      "Epoch:  10 - Error: 1.0\n",
      "Epoch:  11 - Error: 1.0\n",
      "Epoch:  12 - Error: 1.0\n",
      "Epoch:  13 - Error: 1.0\n",
      "Epoch:  14 - Error: 1.0\n",
      "Epoch:  15 - Error: 1.0\n",
      "\n",
      " Weights to the best accuracy: \n",
      " [[0.1]\n",
      " [0.1]]\n"
     ]
    }
   ],
   "source": [
    "with tf.compat.v1.Session() as s:\n",
    "  s.run(init)  \n",
    "  print('Output layer result: \\n', s.run(output_layer))\n",
    "  print('Prediction result: \\n', s.run(predictions))\n",
    "  print('Error result: \\n ', s.run(error))\n",
    "  print('\\n')\n",
    "  for epoch in range(15):\n",
    "    train_error, _= s.run([error, train])\n",
    "    train_error_sum = tf.reduce_sum(train_error)\n",
    "    print(\"Epoch: \", epoch+1, \"- Error:\", s.run(train_error_sum))\n",
    "    if train_error_sum.eval() == 0.0:\n",
    "      break;\n",
    "  print(\"\\n Weights to the best accuracy: \\n\", s.run(Weights))    \n",
    "\n",
    "\n"
   ]
  }
 ],
 "metadata": {
  "colab": {
   "name": "SLP1.ipynb",
   "provenance": []
  },
  "kernelspec": {
   "display_name": "Python 3 (ipykernel)",
   "language": "python",
   "name": "python3"
  },
  "language_info": {
   "codemirror_mode": {
    "name": "ipython",
    "version": 3
   },
   "file_extension": ".py",
   "mimetype": "text/x-python",
   "name": "python",
   "nbconvert_exporter": "python",
   "pygments_lexer": "ipython3",
   "version": "3.9.7"
  }
 },
 "nbformat": 4,
 "nbformat_minor": 1
}
