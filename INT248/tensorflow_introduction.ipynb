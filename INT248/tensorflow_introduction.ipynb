{
 "cells": [
  {
   "cell_type": "code",
   "execution_count": 1,
   "metadata": {
    "id": "jzSdsvEa-Wmt"
   },
   "outputs": [],
   "source": [
    "import tensorflow as tf"
   ]
  },
  {
   "cell_type": "code",
   "execution_count": 2,
   "metadata": {
    "colab": {
     "base_uri": "https://localhost:8080/"
    },
    "id": "uQm2v3KE-j0i",
    "outputId": "5e19d79f-c49d-4b56-cb18-91350673b260"
   },
   "outputs": [
    {
     "name": "stdout",
     "output_type": "stream",
     "text": [
      "5\n",
      "5\n"
     ]
    }
   ],
   "source": [
    "tf.compat.v1.disable_eager_execution()\n",
    "a=tf.constant(5)\n",
    "b=tf.constant(2)\n",
    "c=tf.constant(3)\n",
    "d=tf.multiply(a,b)\n",
    "e=tf.add(c,b)\n",
    "f=tf.subtract(d,e)\n",
    "with tf.compat.v1.Session() as sess:\n",
    "  print(sess.run(f))\n",
    "  print(f.eval())\n",
    "sess.close()"
   ]
  },
  {
   "cell_type": "code",
   "execution_count": 5,
   "metadata": {
    "colab": {
     "base_uri": "https://localhost:8080/"
    },
    "id": "yiGf1Qsp-6Te",
    "outputId": "3cfcb2f7-2963-4214-837c-48130036476a"
   },
   "outputs": [
    {
     "name": "stdout",
     "output_type": "stream",
     "text": [
      "ValueError: Expected values [[0, 1, 2, 3], [4, 5], [6, 7, 8], [9]] to be a dense tensor with shape [4, 4], but got shape [4].\n"
     ]
    },
    {
     "name": "stderr",
     "output_type": "stream",
     "text": [
      "C:\\Users\\navin\\Envs\\jupyter\\lib\\site-packages\\tensorflow\\python\\framework\\tensor_util.py:454: VisibleDeprecationWarning: Creating an ndarray from ragged nested sequences (which is a list-or-tuple of lists-or-tuples-or ndarrays with different lengths or shapes) is deprecated. If you meant to do this, you must specify 'dtype=object' when creating the ndarray.\n",
      "  nparray = np.array(values, dtype=np_dt)\n"
     ]
    }
   ],
   "source": [
    "ragged_list = [\n",
    "    [0, 1, 2, 3],\n",
    "    [4, 5],\n",
    "    [6, 7, 8],\n",
    "    [9]\n",
    "    ]\n",
    "try:\n",
    "  tensor = tf.constant(ragged_list)\n",
    "except Exception as e:\n",
    "  print(f\"{type(e).__name__}: {e}\")\n"
   ]
  },
  {
   "cell_type": "code",
   "execution_count": 6,
   "metadata": {
    "colab": {
     "base_uri": "https://localhost:8080/"
    },
    "id": "q14PpI-VEu9o",
    "outputId": "b24bd9ab-389d-4e35-9630-fe329c027f60"
   },
   "outputs": [
    {
     "name": "stdout",
     "output_type": "stream",
     "text": [
      "tf.RaggedTensor(values=Tensor(\"RaggedConstant/values:0\", shape=(10,), dtype=int32), row_splits=Tensor(\"RaggedConstant/Const:0\", shape=(5,), dtype=int64))\n"
     ]
    }
   ],
   "source": [
    "ragged_tensor = tf.ragged.constant(ragged_list)\n",
    "print(ragged_tensor)"
   ]
  },
  {
   "cell_type": "code",
   "execution_count": 7,
   "metadata": {
    "colab": {
     "base_uri": "https://localhost:8080/"
    },
    "id": "X3nZLrpPZQqb",
    "outputId": "e35e1e88-2779-414d-9cc5-ced2e80925b8"
   },
   "outputs": [
    {
     "name": "stdout",
     "output_type": "stream",
     "text": [
      "Tensor(\"Const_6:0\", shape=(), dtype=string)\n"
     ]
    }
   ],
   "source": [
    "scalar_string_tensor = tf.constant(\"Gray wolf\")\n",
    "print(scalar_string_tensor)"
   ]
  },
  {
   "cell_type": "code",
   "execution_count": null,
   "metadata": {
    "colab": {
     "base_uri": "https://localhost:8080/"
    },
    "id": "qom9WbimZqJ5",
    "outputId": "4f585256-1318-4f8c-cee4-3a6f5f00a88a"
   },
   "outputs": [
    {
     "name": "stdout",
     "output_type": "stream",
     "text": [
      "tf.Tensor([b'Gray wolf' b'Quick Born' b'Lazy Dog'], shape=(3,), dtype=string)\n"
     ]
    }
   ],
   "source": [
    "tensor_of_string = tf.constant([\"Gray wolf\",\n",
    "                                \"Quick Born\",\n",
    "                                \"Lazy Dog\"])\n",
    "print(tensor_of_string)"
   ]
  },
  {
   "cell_type": "code",
   "execution_count": null,
   "metadata": {
    "colab": {
     "base_uri": "https://localhost:8080/"
    },
    "id": "SVZfA-fMaW5x",
    "outputId": "c1c384c5-f82a-4ecf-a3fb-005da2df8ac1"
   },
   "outputs": [
    {
     "name": "stdout",
     "output_type": "stream",
     "text": [
      "tf.Tensor([b'Gray' b'wolf'], shape=(2,), dtype=string)\n"
     ]
    }
   ],
   "source": [
    "print(tf.strings.split(scalar_string_tensor), sep=\" \")"
   ]
  },
  {
   "cell_type": "code",
   "execution_count": null,
   "metadata": {
    "colab": {
     "base_uri": "https://localhost:8080/"
    },
    "id": "FXgJepE9aAV1",
    "outputId": "dcd7ecd4-fc02-44cb-ec75-541abd32dd4a"
   },
   "outputs": [
    {
     "name": "stdout",
     "output_type": "stream",
     "text": [
      "<tf.RaggedTensor [[b'Gray', b'wolf'],\n",
      " [b'Quick', b'Born'],\n",
      " [b'Lazy', b'Dog']]>\n"
     ]
    }
   ],
   "source": [
    "print(tf.strings.split(tensor_of_string))"
   ]
  },
  {
   "cell_type": "code",
   "execution_count": null,
   "metadata": {
    "colab": {
     "base_uri": "https://localhost:8080/"
    },
    "id": "t9iz6123aJXr",
    "outputId": "df5d4db8-a756-4425-a447-c887f3e839b6"
   },
   "outputs": [
    {
     "name": "stdout",
     "output_type": "stream",
     "text": [
      "tf.Tensor([  1.  10. 100.], shape=(3,), dtype=float32)\n"
     ]
    }
   ],
   "source": [
    "text = tf.constant(\"1 10 100\")\n",
    "print(tf.strings.to_number(tf.strings.split(text, \" \")))"
   ]
  },
  {
   "cell_type": "code",
   "execution_count": null,
   "metadata": {
    "colab": {
     "base_uri": "https://localhost:8080/"
    },
    "id": "5B111BjOa4H8",
    "outputId": "b3e4f6d4-71d0-42c3-cb5c-abfe09e81611"
   },
   "outputs": [
    {
     "name": "stdout",
     "output_type": "stream",
     "text": [
      "Byte strings: tf.Tensor([b'D' b'u' b'c' b'k'], shape=(4,), dtype=string)\n",
      "Bytes: tf.Tensor([ 68 117  99 107], shape=(4,), dtype=uint8)\n"
     ]
    }
   ],
   "source": [
    "byte_string = tf.strings.bytes_split(tf.constant(\"Duck\"))\n",
    "byte_ints = tf.io.decode_raw(tf.constant(\"Duck\"), tf.uint8)\n",
    "print(\"Byte strings:\", byte_string)\n",
    "print(\"Bytes:\",byte_ints)"
   ]
  },
  {
   "cell_type": "code",
   "execution_count": null,
   "metadata": {
    "colab": {
     "base_uri": "https://localhost:8080/"
    },
    "id": "Ps1LlQZ7czlr",
    "outputId": "6ea8ce00-e6b9-4c50-da9f-a499ceb18425"
   },
   "outputs": [
    {
     "name": "stdout",
     "output_type": "stream",
     "text": [
      "SparseTensor(indices=tf.Tensor(\n",
      "[[0 0]\n",
      " [1 2]], shape=(2, 2), dtype=int64), values=tf.Tensor([1 2], shape=(2,), dtype=int32), dense_shape=tf.Tensor([3 4], shape=(2,), dtype=int64))\n"
     ]
    }
   ],
   "source": [
    "sparse_tensor = tf.sparse.SparseTensor(indices=[[0, 0], [1, 2]],\n",
    "                                       values=[1,2],\n",
    "                                       dense_shape=[3,4])\n",
    "print(sparse_tensor)"
   ]
  },
  {
   "cell_type": "code",
   "execution_count": null,
   "metadata": {
    "colab": {
     "base_uri": "https://localhost:8080/"
    },
    "id": "fUVrWfTAdRuJ",
    "outputId": "5fb4c530-2e36-4c98-a3ef-70e6fe7cc5ca"
   },
   "outputs": [
    {
     "name": "stdout",
     "output_type": "stream",
     "text": [
      "tf.Tensor(\n",
      "[[1 0 0 0]\n",
      " [0 0 2 0]\n",
      " [0 0 0 0]], shape=(3, 4), dtype=int32)\n"
     ]
    }
   ],
   "source": [
    "print(tf.sparse.to_dense(sparse_tensor))"
   ]
  },
  {
   "cell_type": "code",
   "execution_count": null,
   "metadata": {
    "colab": {
     "base_uri": "https://localhost:8080/"
    },
    "id": "0psROxKpdva7",
    "outputId": "992236f2-541e-4f07-b69e-b77840c6c8eb"
   },
   "outputs": [
    {
     "name": "stdout",
     "output_type": "stream",
     "text": [
      "Enter the size of array: 15\n",
      "How many element do you want to insert into array: 3\n",
      "12 23 34\n",
      "[12, 23, 34, 0, 0, 0, 0, 0, 0, 0, 0, 0, 0, 0, 0]\n",
      "Enter the number you want to insert: 71\n",
      "10\n",
      "[12, 23, 34, 0, 0, 0, 0, 0, 0, 0, 71, 0, 0, 0, 0]\n"
     ]
    }
   ],
   "source": [
    "n = int(input(\"Enter the size of array: \"))\n",
    "k = int(input(\"How many element do you want to insert into array: \"))\n",
    "arr = list(map(int,input().split()))\n",
    "for i in range(n-k):\n",
    "  arr.append(0)\n",
    "print(arr)\n",
    "n1 = int(input(\"Enter the number you want to insert: \"))\n",
    "if n1<n:\n",
    "    index = n%n1-1\n",
    "else:\n",
    "    index = n1%n-1\n",
    "print(index)\n",
    "arr = arr[:index]+[n1]+arr[index+1:]\n",
    "print(arr)\n"
   ]
  },
  {
   "cell_type": "code",
   "execution_count": null,
   "metadata": {
    "id": "79mLp1HtH_9u"
   },
   "outputs": [],
   "source": []
  }
 ],
 "metadata": {
  "colab": {
   "name": "tensorflow_introduction.ipynb",
   "provenance": []
  },
  "kernelspec": {
   "display_name": "Python 3 (ipykernel)",
   "language": "python",
   "name": "python3"
  },
  "language_info": {
   "codemirror_mode": {
    "name": "ipython",
    "version": 3
   },
   "file_extension": ".py",
   "mimetype": "text/x-python",
   "name": "python",
   "nbconvert_exporter": "python",
   "pygments_lexer": "ipython3",
   "version": "3.10.0"
  }
 },
 "nbformat": 4,
 "nbformat_minor": 1
}
