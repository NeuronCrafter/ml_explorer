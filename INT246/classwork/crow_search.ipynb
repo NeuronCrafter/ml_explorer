{
 "cells": [
  {
   "cell_type": "code",
   "execution_count": 1,
   "id": "f98a8ca8",
   "metadata": {},
   "outputs": [
    {
     "name": "stdout",
     "output_type": "stream",
     "text": [
      "Awerness Probability\n",
      " [0.42521717 0.86145971 0.5184191  0.72664993 0.39612136]\n",
      "Current solns\n",
      " [[-1.36696238  0.02575591  0.61375594]\n",
      " [-4.36675625  1.21716411 -1.42725217]\n",
      " [ 1.12430884 -0.87968112  0.35062411]\n",
      " [-4.74544006 -1.5605034  -4.25262625]\n",
      " [-1.51589651  0.21812392 -2.71863029]]\n",
      "Memory\n",
      " [[-1.36696238  0.02575591  0.61375594]\n",
      " [-4.36675625  1.21716411 -1.42725217]\n",
      " [ 1.12430884 -0.87968112  0.35062411]\n",
      " [-4.74544006 -1.5605034  -4.25262625]\n",
      " [-1.51589651  0.21812392 -2.71863029]]\n"
     ]
    }
   ],
   "source": [
    "\"\"\"Crow search\n",
    "   f(x)=x1^2+x1*x3+2x2^2\n",
    "   objective is minimize the equation\n",
    "   lb=-5, ub=5\n",
    "   Population size=5\"\"\"\n",
    "import numpy as np\n",
    "ap=np.random.random(size=(5,))\n",
    "x=np.random.uniform(low=-5, high=5,size=(5,3))\n",
    "m=x.copy()\n",
    "print(\"Awerness Probability\\n\",ap)\n",
    "print(\"Current solns\\n\",x)\n",
    "print(\"Memory\\n\",m)"
   ]
  },
  {
   "cell_type": "code",
   "execution_count": 2,
   "id": "db6499d8",
   "metadata": {},
   "outputs": [
    {
     "name": "stdout",
     "output_type": "stream",
     "text": [
      "[0.4923848759104023, 0.03417167921902301, 0.23775796705735755, 0.02058878742046704, 0.13308029497689647]\n"
     ]
    }
   ],
   "source": [
    "fitness=[]\n",
    "for i in x:\n",
    "    fitness.append(1/(1+i[0]**2+2*i[1]**2+i[0]*i[2]))\n",
    "print(fitness)"
   ]
  },
  {
   "cell_type": "code",
   "execution_count": 6,
   "id": "dded3c36",
   "metadata": {},
   "outputs": [
    {
     "name": "stdout",
     "output_type": "stream",
     "text": [
      "Iteration is  1\n",
      "Current solutions\n",
      " [[ 2.49769693  1.6706566   1.5009773 ]\n",
      " [-0.20860983  0.34420095  0.50327921]\n",
      " [-1.20407044 -2.39365369  2.35664634]\n",
      " [-3.82841567  0.38671808 -2.28070029]\n",
      " [-2.50790767 -1.81960773 -2.87255616]]\n",
      "Memory \n",
      " [[ 2.49769693  1.6706566   1.5009773 ]\n",
      " [-0.20860983  0.34420095  0.50327921]\n",
      " [-1.20407044 -2.39365369  2.35664634]\n",
      " [-3.82841567  0.38671808 -2.28070029]\n",
      " [-2.50790767 -1.81960773 -2.87255616]]\n",
      "--------------------------------\n",
      "Iteration is  2\n",
      "Current solutions\n",
      " [[ 2.46553208  1.11089178  4.86906582]\n",
      " [-0.42562366  0.34674993  0.33637466]\n",
      " [-1.78142468 -2.13945948  0.04109486]\n",
      " [-1.1123015   0.69923076  0.804737  ]\n",
      " [ 0.47242822  3.33862467  3.22820026]]\n",
      "Memory \n",
      " [[ 2.46553208  1.11089178  4.86906582]\n",
      " [-0.42562366  0.34674993  0.33637466]\n",
      " [-1.78142468 -2.13945948  0.04109486]\n",
      " [-3.82841567  0.38671808 -2.28070029]\n",
      " [ 0.47242822  3.33862467  3.22820026]]\n",
      "--------------------------------\n",
      "Iteration is  3\n",
      "Current solutions\n",
      " [[ 2.39037273  1.05336959  4.78362413]\n",
      " [-1.32551558  0.35731978 -0.35572894]\n",
      " [-2.83728778 -0.83642606 -1.1565156 ]\n",
      " [ 4.76721091  4.01550975  1.92411369]\n",
      " [ 2.13037156  3.59992709  2.72477511]]\n",
      "Memory \n",
      " [[ 2.46553208  1.11089178  4.86906582]\n",
      " [-1.32551558  0.35731978 -0.35572894]\n",
      " [-2.83728778 -0.83642606 -1.1565156 ]\n",
      " [ 4.76721091  4.01550975  1.92411369]\n",
      " [ 2.13037156  3.59992709  2.72477511]]\n",
      "--------------------------------\n"
     ]
    }
   ],
   "source": [
    "iter=3\n",
    "import random\n",
    "for i in range(iter):\n",
    "    print(\"Iteration is \",i+1)\n",
    "    for j in range(5):\n",
    "        while True:\n",
    "            k=random.randint(0,4)\n",
    "            if(k!=j):\n",
    "                break\n",
    "        r=random.random()\n",
    "        if(r>=ap[k]):\n",
    "            x[j,:]+=random.random()*(m[k,:]-x[j,:])\n",
    "        else:\n",
    "            x[j,:]=np.random.uniform(low=-5, high=5,size=(1,3))\n",
    "        fitness_new=1/(1/(1+x[j,0]**2+2*x[j,1]**2+x[j,0]*x[j,2]))\n",
    "        if(fitness_new>fitness[j]):\n",
    "            fitness[j]=fitness_new\n",
    "            m[j,:]=x[j,:]\n",
    "    print(\"Current solutions\\n\",x)\n",
    "    print(\"Memory \\n\",m)\n",
    "    print(\"--------------------------------\")\n",
    "    \n",
    "    "
   ]
  },
  {
   "cell_type": "code",
   "execution_count": 2,
   "id": "abd88e78",
   "metadata": {},
   "outputs": [
    {
     "data": {
      "text/plain": [
       "2"
      ]
     },
     "execution_count": 2,
     "metadata": {},
     "output_type": "execute_result"
    }
   ],
   "source": [
    "import random\n",
    "random.randint(0,5)"
   ]
  },
  {
   "cell_type": "code",
   "execution_count": null,
   "id": "2b9bd495",
   "metadata": {},
   "outputs": [],
   "source": []
  }
 ],
 "metadata": {
  "kernelspec": {
   "display_name": "Python 3",
   "language": "python",
   "name": "python3"
  },
  "language_info": {
   "codemirror_mode": {
    "name": "ipython",
    "version": 3
   },
   "file_extension": ".py",
   "mimetype": "text/x-python",
   "name": "python",
   "nbconvert_exporter": "python",
   "pygments_lexer": "ipython3",
   "version": "3.9.7"
  }
 },
 "nbformat": 4,
 "nbformat_minor": 5
}
