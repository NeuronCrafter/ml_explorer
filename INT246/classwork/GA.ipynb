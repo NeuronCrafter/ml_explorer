{
 "cells": [
  {
   "cell_type": "code",
   "execution_count": 1,
   "id": "7174ee97",
   "metadata": {},
   "outputs": [],
   "source": [
    "# f(x)=a+2b+3c+4d-30\n",
    "# Objective to minimize the equation"
   ]
  },
  {
   "cell_type": "code",
   "execution_count": 2,
   "id": "e8a1ed87",
   "metadata": {},
   "outputs": [],
   "source": [
    "import numpy as np\n",
    "import random as rd"
   ]
  },
  {
   "cell_type": "code",
   "execution_count": 3,
   "id": "df0aa41d",
   "metadata": {},
   "outputs": [],
   "source": [
    "population = np.zeros((10, 4), dtype=int)\n",
    "for i in range(population.shape[0]):\n",
    "    for j in range(population.shape[1]):\n",
    "        population[i][j] = rd.randint(1,30)"
   ]
  },
  {
   "cell_type": "code",
   "execution_count": 4,
   "id": "fe009aa5",
   "metadata": {},
   "outputs": [],
   "source": [
    "# fitness = 1/(1+objective)\n",
    "fitness = []\n",
    "for i in population:\n",
    "    val = i[0] + 2*i[1] + 3*i[2] + 4*i[3] - 30\n",
    "    fit = 1/np.abs(1+val)\n",
    "    fitness.append(fit)\n",
    "    \n"
   ]
  },
  {
   "cell_type": "code",
   "execution_count": 5,
   "id": "7bfe2d82",
   "metadata": {},
   "outputs": [],
   "source": [
    "# Selecion Operator\n",
    "probablity = np.array(fitness/sum(fitness))\n",
    "cumm_prob = []\n",
    "j = 0\n",
    "for i in probablity:\n",
    "    if j == 0:\n",
    "        cumm_prob.append(i)\n",
    "        j += 1\n",
    "    else:\n",
    "        cumm_prob.append(i+cumm_prob[j-1])\n",
    "        j += 1"
   ]
  },
  {
   "cell_type": "code",
   "execution_count": 6,
   "id": "c8f93789",
   "metadata": {},
   "outputs": [
    {
     "name": "stdout",
     "output_type": "stream",
     "text": [
      "Cummlative Probabilities  [0.07311069077953561, 0.2882248386500923, 0.3937525338318748, 0.46783157813166915, 0.5723730331715658, 0.6966612074967764, 0.7868703662812034, 0.8493616271151082, 0.9474838700034323, 1.0]\n",
      "Random number is 0.2569558858683334\n",
      "Chromosome selected 1\n",
      "Random number is 0.6387765927716892\n",
      "Chromosome selected 5\n",
      "Random number is 0.6244723919289611\n",
      "Chromosome selected 5\n",
      "Random number is 0.5996622524082512\n",
      "Chromosome selected 5\n",
      "Random number is 0.6338375884596791\n",
      "Chromosome selected 5\n",
      "Random number is 0.14968434300969702\n",
      "Chromosome selected 1\n",
      "Random number is 0.34245959691924566\n",
      "Chromosome selected 2\n",
      "Random number is 0.4836235833992377\n",
      "Chromosome selected 4\n",
      "[[20  6 15  1]\n",
      " [10  6  7 19]\n",
      " [10  6  7 19]\n",
      " [10  6  7 19]\n",
      " [10  6  7 19]\n",
      " [20  6 15  1]\n",
      " [26  6  3 22]\n",
      " [11 24 23  2]]\n"
     ]
    }
   ],
   "source": [
    "# Parent selection\n",
    "print(\"Cummlative Probabilities \",cumm_prob)\n",
    "no_of_parents = 8\n",
    "parents_crossover=np.zeros((8,4),dtype=np.int32)\n",
    "for i in range(8):\n",
    "    r = rd.random()\n",
    "    print(\"Random number is\",r)\n",
    "    for j in range(10):\n",
    "        if cumm_prob[j]>r:\n",
    "            index = j\n",
    "            break\n",
    "    print(\"Chromosome selected\", index)\n",
    "    parents_crossover[i,:]=population[index,:]\n",
    "print(parents_crossover)"
   ]
  },
  {
   "cell_type": "code",
   "execution_count": 7,
   "id": "005065f8",
   "metadata": {},
   "outputs": [
    {
     "name": "stdout",
     "output_type": "stream",
     "text": [
      "1\n",
      "2\n",
      "0\n",
      "2\n",
      "[[20  6  7 19]\n",
      " [10  6 15  1]\n",
      " [10  6  7 19]\n",
      " [10  6  7 19]\n",
      " [10  6 15  1]\n",
      " [20  6  7 19]\n",
      " [26  6  3  2]\n",
      " [11 24 23 22]]\n"
     ]
    }
   ],
   "source": [
    "# Single point crossover\n",
    "off_spring=np.zeros((8,4), dtype=np.int32)\n",
    "\n",
    "for i in range(0,8,2):\n",
    "    pos=rd.randint(0,2)\n",
    "    print(pos)\n",
    "    off_spring[i,0:pos+1]=parents_crossover[i,0:pos+1]\n",
    "    off_spring[i+1,0:pos+1]=parents_crossover[i+1,0:pos+1]\n",
    "    off_spring[i,pos+1:]=parents_crossover[i+1,pos+1:]\n",
    "    off_spring[i+1,pos+1:]=parents_crossover[i,pos+1:]\n",
    "print(off_spring)"
   ]
  },
  {
   "cell_type": "code",
   "execution_count": 8,
   "id": "266f026e",
   "metadata": {},
   "outputs": [
    {
     "name": "stdout",
     "output_type": "stream",
     "text": [
      "row is  3 Column is  3\n",
      "row is  3 Column is  3\n",
      "row is  0 Column is  3\n",
      "[[20  6  7  9]\n",
      " [10  6 15  1]\n",
      " [10  6  7 19]\n",
      " [10  6  7 20]\n",
      " [10  6 15  1]\n",
      " [20  6  7 19]\n",
      " [26  6  3  2]\n",
      " [11 24 23 22]]\n"
     ]
    }
   ],
   "source": [
    "#Mutation operator\n",
    "for i in range(3):\n",
    "    rand_r=rd.randint(0,7)\n",
    "    rand_c=rd.randint(0,3)\n",
    "    print(\"row is \",rand_r,\"Column is \",rand_c)\n",
    "    off_spring[rand_r,rand_c]=rd.randint(1,30)\n",
    "print(off_spring)"
   ]
  },
  {
   "cell_type": "code",
   "execution_count": 9,
   "id": "a1764995",
   "metadata": {},
   "outputs": [
    {
     "name": "stdout",
     "output_type": "stream",
     "text": [
      "[0.016666666666666666, 0.023809523809523808, 0.011111111111111112, 0.010638297872340425, 0.023809523809523808, 0.01, 0.038461538461538464, 0.0053475935828877]\n"
     ]
    }
   ],
   "source": [
    "# Fitness of offspring\n",
    "fitness_offspring=[]\n",
    "for i in off_spring:\n",
    "    value=i[0]+2*i[1]+3*i[2]+4*i[3]-30\n",
    "    fit=1/np.abs(1+value)\n",
    "    fitness_offspring.append(fit)\n",
    "print(fitness_offspring)"
   ]
  },
  {
   "cell_type": "code",
   "execution_count": null,
   "id": "a1d9cdef",
   "metadata": {},
   "outputs": [],
   "source": []
  }
 ],
 "metadata": {
  "kernelspec": {
   "display_name": "Python 3 (ipykernel)",
   "language": "python",
   "name": "python3"
  },
  "language_info": {
   "codemirror_mode": {
    "name": "ipython",
    "version": 3
   },
   "file_extension": ".py",
   "mimetype": "text/x-python",
   "name": "python",
   "nbconvert_exporter": "python",
   "pygments_lexer": "ipython3",
   "version": "3.9.7"
  }
 },
 "nbformat": 4,
 "nbformat_minor": 5
}
