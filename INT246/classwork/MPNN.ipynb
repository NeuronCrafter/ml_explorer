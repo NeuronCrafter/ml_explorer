{
 "cells": [
  {
   "cell_type": "code",
   "execution_count": null,
   "metadata": {},
   "outputs": [],
   "source": [
    "#Implementation of or gate using mculloh pits model\n",
    "import numpy as np\n",
    "x=np.array([[0,0],[0,1],[1,0],[1,1]]*2)\n",
    "inh=np.array([[0],[0],[0],[0],[1],[1],[1],[1]])\n",
    "theta=1\n",
    "for i in range(x.shape[0]):\n",
    "    if(inh[i,:]!=1):\n",
    "        s=np.sum(x[i])\n",
    "        if(s>=theta):\n",
    "            out=1\n",
    "        else:\n",
    "            out=0\n",
    "    else:\n",
    "        s='NA'\n",
    "        out=0\n",
    "    print('input is',x[i],'inhibitory ',inh[i], \"sum is \", s,\"theshold \",theta, \"output \",out)\n",
    "        "
   ]
  },
  {
   "cell_type": "code",
   "execution_count": null,
   "metadata": {},
   "outputs": [],
   "source": [
    "#Implementation of and gate using mculloh pits model\n",
    "import numpy as np\n",
    "x=np.array([[0,0],[0,1],[1,0],[1,1]]*2)\n",
    "inh=np.array([[0],[0],[0],[0],[1],[1],[1],[1]])\n",
    "theta=2\n",
    "for i in range(x.shape[0]):\n",
    "    if(inh[i,:]!=1):\n",
    "        s=np.sum(x[i])\n",
    "        if(s>=theta):\n",
    "            out=1\n",
    "        else:\n",
    "            out=0\n",
    "    else:\n",
    "        s='NA'\n",
    "        out=0\n",
    "    print('input is',x[i],'inhibitory ',inh[i], \"sum is \", s,\"theshold \",theta, \"output \",out)\n",
    "        "
   ]
  },
  {
   "cell_type": "code",
   "execution_count": null,
   "metadata": {},
   "outputs": [],
   "source": []
  }
 ],
 "metadata": {
  "interpreter": {
   "hash": "472ca499dac03712dcd9de6b93ec4232dfa67c9e4e4067f1b70bf1f2cbda8801"
  },
  "kernelspec": {
   "display_name": "Python 3.10.0 64-bit ('jupyter': virtualenv)",
   "name": "python3"
  },
  "language_info": {
   "codemirror_mode": {
    "name": "ipython",
    "version": 3
   },
   "file_extension": ".py",
   "mimetype": "text/x-python",
   "name": "python",
   "nbconvert_exporter": "python",
   "pygments_lexer": "ipython3",
   "version": "3.10.0"
  }
 },
 "nbformat": 4,
 "nbformat_minor": 2
}
