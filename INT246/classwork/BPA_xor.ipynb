{
    "cells": [
        {
            "cell_type": "code",
            "execution_count": 151,
            "metadata": {},
            "outputs": [
                {
                    "name": "stdout",
                    "output_type": "stream",
                    "text": [
                        "Epoch --->>  1\n",
                        "Input is  [0 0]  target is  [0] Output is  [0.85724895] Error is  [-0.85724895]\n",
                        "[[3.03988723]\n",
                        " [0.49291294]] [[ 0.00988058  0.47802094]\n",
                        " [-0.52732346  0.26162465]]\n",
                        "Input is  [0 1]  target is  [1] Output is  [0.80325145] Error is  [0.19674855]\n",
                        "[[3.04565734]\n",
                        " [0.5016975 ]] [[ 0.00988058  0.47993791]\n",
                        " [-0.52732346  0.26354163]]\n",
                        "Input is  [1 0]  target is  [1] Output is  [0.86298029] Error is  [0.13701971]\n",
                        "[[3.04972784]\n",
                        " [0.50670174]] [[ 0.01605687  0.47993791]\n",
                        " [-0.52114718  0.26354163]]\n",
                        "Input is  [1 1]  target is  [0] Output is  [0.81625391] Error is  [-0.81625391]\n",
                        "[[3.02669089]\n",
                        " [0.46521473]] [[-0.02742792  0.47371849]\n",
                        " [-0.56463196  0.2573222 ]]\n",
                        "Epoch --->>  2\n",
                        "Input is  [0 0]  target is  [0] Output is  [0.85144161] Error is  [-0.85144161]\n",
                        "[[2.99976643]\n",
                        " [0.43829027]] [[-0.02742792  0.47371849]\n",
                        " [-0.56463196  0.2573222 ]]\n",
                        "Input is  [0 1]  target is  [1] Output is  [0.79158905] Error is  [0.20841095]\n",
                        "[[3.0059979 ]\n",
                        " [0.44798583]] [[-0.02742792  0.47561234]\n",
                        " [-0.56463196  0.25921605]]\n",
                        "Input is  [1 0]  target is  [1] Output is  [0.85304252] Error is  [0.14695748]\n",
                        "[[3.01054043]\n",
                        " [0.45366659]] [[-0.02049642  0.47561234]\n",
                        " [-0.55770047  0.25921605]]\n",
                        "Input is  [1 1]  target is  [0] Output is  [0.80034425] Error is  [-0.80034425]\n",
                        "[[2.987562  ]\n",
                        " [0.41044858]] [[-0.06447687  0.46986256]\n",
                        " [-0.60168091  0.25346628]]\n",
                        "Epoch --->>  3\n",
                        "Input is  [0 0]  target is  [0] Output is  [0.84540478] Error is  [-0.84540478]\n",
                        "[[2.95993934]\n",
                        " [0.38282592]] [[-0.06447687  0.46986256]\n",
                        " [-0.60168091  0.25346628]]\n",
                        "Input is  [0 1]  target is  [1] Output is  [0.77958337] Error is  [0.22041663]\n",
                        "[[2.96664243]\n",
                        " [0.39348826]] [[-0.06447687  0.47169587]\n",
                        " [-0.60168091  0.25529959]]\n",
                        "Input is  [1 0]  target is  [1] Output is  [0.84261591] Error is  [0.15738409]\n",
                        "[[2.97169212]\n",
                        " [0.3999144 ]] [[-0.056732    0.47169587]\n",
                        " [-0.59393605  0.25529959]]\n",
                        "Input is  [1 1]  target is  [0] Output is  [0.78387837] Error is  [-0.78387837]\n",
                        "[[2.94892774]\n",
                        " [0.35515139]] [[-0.10084756  0.46651555]\n",
                        " [-0.6380516   0.25011927]]\n"
                    ]
                }
            ],
            "source": [
                "import numpy as np\n",
                "\n",
                "def sigmoidal(x):\n",
                "    return 1/(1+np.exp(-x))\n",
                "\n",
                "def derivative(x):\n",
                "    return x*(1-x)\n",
                "\n",
                "x = np.array([[0,0],[0,1],[1,0],[1,1]])  #input\n",
                "y = np.array([[0],[1],[1],[0]]) #target\n",
                "h_l = 2  #no. of hidden node\n",
                "o_l = 1 #no. of output node\n",
                "epoch = 3\n",
                "l_r = 0.5  #Learning Rate\n",
                "w_h = np.random.randn(h_l, x.shape[1]) \n",
                "w_o = np.random.randn(h_l, o_l)   #2x1\n",
                "\n",
                "for i in range(epoch):\n",
                "    print('Epoch --->> ',i+1)\n",
                "    for j in range(x.shape[0]):\n",
                "# Forward Pass\n",
                "\n",
                "        # summation of hidden layer\n",
                "        sum_h = np.dot(x[j,:],w_h)\n",
                "        # output at hidden layer\n",
                "        h_o = sigmoidal(sum_h) \n",
                "        # summation of output layer \n",
                "        sum_o = np.dot(h_o,w_o)\n",
                "        # output at output layer \n",
                "        o_o = sigmoidal(sum_o)\n",
                "        error = y[j,:]-o_o\n",
                "        print(\"Input is \",x[j,:],\" target is \",y[j,:], 'Output is ', o_o, 'Error is ',error)\n",
                "\n",
                "# Backward Pass \n",
                "        if error!=0:\n",
                "            # Error at output layer\n",
                "            outDelta = derivative(o_o)*error\n",
                "            # weight update at output layer \n",
                "            w_o += l_r*outDelta*h_o.reshape(2,1)\n",
                "            # Error at hidden Layer\n",
                "            hiddenDelta = derivative(h_o)*(w_o.T*outDelta)\n",
                "            w_h += l_r*hiddenDelta*x[j,:]\n",
                "            print(w_o,w_h)\n",
                "            "
            ]
        },
        {
            "cell_type": "code",
            "execution_count": 142,
            "metadata": {},
            "outputs": [
                {
                    "data": {
                        "text/plain": [
                            "array([[-0.4078286 , -0.39492304],\n",
                            "       [ 0.57732734,  0.55905807]])"
                        ]
                    },
                    "execution_count": 142,
                    "metadata": {},
                    "output_type": "execute_result"
                }
            ],
            "source": [
                "np.array([0.91470389, 0.88575848])*np.array([[-0.44585861],\n",
                "       [ 0.6311631 ]])"
            ]
        },
        {
            "cell_type": "code",
            "execution_count": 146,
            "metadata": {},
            "outputs": [
                {
                    "data": {
                        "text/plain": [
                            "array([[ 0.00483403, -0.00887531]])"
                        ]
                    },
                    "execution_count": 146,
                    "metadata": {},
                    "output_type": "execute_result"
                }
            ],
            "source": [
                "derivative(h_o)*(w_o.T*deltaOut)"
            ]
        }
    ],
    "metadata": {
        "interpreter": {
            "hash": "5946f0e949768fc552c83641cdc75dc9b58f580025925829ebc2209865a0dcbc"
        },
        "kernelspec": {
            "display_name": "Python 3.9.5 64-bit ('Jupyter': virtualenv)",
            "name": "python3"
        },
        "language_info": {
            "codemirror_mode": {
                "name": "ipython",
                "version": 3
            },
            "file_extension": ".py",
            "mimetype": "text/x-python",
            "name": "python",
            "nbconvert_exporter": "python",
            "pygments_lexer": "ipython3",
            "version": "3.9.5"
        },
        "orig_nbformat": 4
    },
    "nbformat": 4,
    "nbformat_minor": 2
}
