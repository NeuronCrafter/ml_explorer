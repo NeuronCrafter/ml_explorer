{
 "cells": [
  {
   "cell_type": "code",
   "execution_count": 2,
   "id": "f9cded9e",
   "metadata": {},
   "outputs": [],
   "source": [
    "import numpy as np\n",
    "import matplotlib.pyplot as plt\n",
    "x=np.array([[0,0],[0,1],[1,0],[1,1]])\n",
    "y=np.array([[0],[1],[1],[0]])"
   ]
  },
  {
   "cell_type": "code",
   "execution_count": 11,
   "id": "90381302",
   "metadata": {},
   "outputs": [
    {
     "name": "stdout",
     "output_type": "stream",
     "text": [
      "[[1.         0.13533528]\n",
      " [0.36787944 0.36787944]\n",
      " [0.36787944 0.36787944]\n",
      " [0.13533528 1.        ]]\n"
     ]
    }
   ],
   "source": [
    "def transform(x,t1,t2):\n",
    "    l=[]\n",
    "    l.append(np.exp(-((x[0]-t1[0])**2+(x[1]-t1[1])**2)))\n",
    "    l.append(np.exp(-((x[0]-t2[0])**2+(x[1]-t2[1])**2)))\n",
    "    return l\n",
    "t1=(0,0)\n",
    "t2=(1,1)\n",
    "hidden_output=np.zeros((x.shape))\n",
    "for i in range(x.shape[0]):\n",
    "    hidden_output[i,:]=transform(x[i,:],t1,t2)\n",
    "print(hidden_output)"
   ]
  },
  {
   "cell_type": "code",
   "execution_count": 23,
   "id": "4e47a21c",
   "metadata": {},
   "outputs": [
    {
     "data": {
      "image/png": "[encoded data removed]",
      "text/plain": [
       "<Figure size 432x288 with 1 Axes>"
      ]
     },
     "metadata": {
      "needs_background": "light"
     },
     "output_type": "display_data"
    },
    {
     "data": {
      "text/plain": [
       "array([1.        , 0.13533528])"
      ]
     },
     "execution_count": 23,
     "metadata": {},
     "output_type": "execute_result"
    }
   ],
   "source": [
    "plt.scatter(hidden_output[:,0],hidden_output[:,1])\n",
    "plt.show()\n",
    "\n",
    "np.array(hidden_output[0,:])"
   ]
  },
  {
   "cell_type": "code",
   "execution_count": 24,
   "id": "bc8d8659",
   "metadata": {},
   "outputs": [
    {
     "name": "stdout",
     "output_type": "stream",
     "text": [
      "Epoch is  1\n",
      "input is  [1.         0.13533528]\n",
      "Output is  [0.5] target is  [0] error is  [-0.5]\n",
      "Weights are  \n",
      " [[-0.5       ]\n",
      " [-0.06766764]] \n",
      " bias is  [-0.5]\n",
      "input is  [0.36787944 0.36787944]\n",
      "Output is  [0.3298567] target is  [1] error is  [0.6701433]\n",
      "Weights are  \n",
      " [[-0.25346806]\n",
      " [ 0.1788643 ]] \n",
      " bias is  [0.1701433]\n",
      "input is  [0.36787944 0.36787944]\n",
      "Output is  [0.53561412] target is  [1] error is  [0.46438588]\n",
      "Weights are  \n",
      " [[-0.08263004]\n",
      " [ 0.34970232]] \n",
      " bias is  [0.63452919]\n",
      "input is  [0.13533528 1.        ]\n",
      "Output is  [0.72572676] target is  [0] error is  [-0.72572676]\n",
      "Weights are  \n",
      " [[-0.18084647]\n",
      " [-0.37602444]] \n",
      " bias is  [-0.09119758]\n",
      "---------------------------------------------\n",
      "Epoch is  2\n",
      "input is  [1.         0.13533528]\n",
      "Output is  [0.41996102] target is  [0] error is  [-0.41996102]\n",
      "Weights are  \n",
      " [[-0.60080749]\n",
      " [-0.43285998]] \n",
      " bias is  [-0.51115859]\n",
      "input is  [0.36787944 0.36787944]\n",
      "Output is  [0.29081613] target is  [1] error is  [0.70918387]\n",
      "Weights are  \n",
      " [[-0.33991333]\n",
      " [-0.17196582]] \n",
      " bias is  [0.19802528]\n",
      "input is  [0.36787944 0.36787944]\n",
      "Output is  [0.50242885] target is  [1] error is  [0.49757115]\n",
      "Weights are  \n",
      " [[-0.15686713]\n",
      " [ 0.01108038]] \n",
      " bias is  [0.69559643]\n",
      "input is  [0.13533528 1.        ]\n",
      "Output is  [0.66495336] target is  [0] error is  [-0.66495336]\n",
      "Weights are  \n",
      " [[-0.24685878]\n",
      " [-0.65387298]] \n",
      " bias is  [0.03064307]\n",
      "---------------------------------------------\n",
      "Epoch is  3\n",
      "input is  [1.         0.13533528]\n",
      "Output is  [0.42440703] target is  [0] error is  [-0.42440703]\n",
      "Weights are  \n",
      " [[-0.67126581]\n",
      " [-0.71131022]] \n",
      " bias is  [-0.39376396]\n",
      "input is  [0.36787944 0.36787944]\n",
      "Output is  [0.28856057] target is  [1] error is  [0.71143943]\n",
      "Weights are  \n",
      " [[-0.40954187]\n",
      " [-0.44958629]] \n",
      " bias is  [0.31767547]\n",
      "input is  [0.36787944 0.36787944]\n",
      "Output is  [0.50040497] target is  [1] error is  [0.49959503]\n",
      "Weights are  \n",
      " [[-0.22575113]\n",
      " [-0.26579555]] \n",
      " bias is  [0.8172705]\n",
      "input is  [0.13533528 1.        ]\n",
      "Output is  [0.62736354] target is  [0] error is  [-0.62736354]\n",
      "Weights are  \n",
      " [[-0.31065555]\n",
      " [-0.89315908]] \n",
      " bias is  [0.18990696]\n",
      "---------------------------------------------\n",
      "Epoch is  4\n",
      "input is  [1.         0.13533528]\n",
      "Output is  [0.43988605] target is  [0] error is  [-0.43988605]\n",
      "Weights are  \n",
      " [[-0.7505416 ]\n",
      " [-0.95269118]] \n",
      " bias is  [-0.24997909]\n",
      "input is  [0.36787944 0.36787944]\n",
      "Output is  [0.29389043] target is  [1] error is  [0.70610957]\n",
      "Weights are  \n",
      " [[-0.49077841]\n",
      " [-0.69292799]] \n",
      " bias is  [0.45613048]\n",
      "input is  [0.36787944 0.36787944]\n",
      "Output is  [0.50516712] target is  [1] error is  [0.49483288]\n",
      "Weights are  \n",
      " [[-0.30873957]\n",
      " [-0.51088915]] \n",
      " bias is  [0.95096336]\n",
      "input is  [0.13533528 1.        ]\n",
      "Output is  [0.59827695] target is  [0] error is  [-0.59827695]\n",
      "Weights are  \n",
      " [[-0.38970755]\n",
      " [-1.1091661 ]] \n",
      " bias is  [0.35268641]\n",
      "---------------------------------------------\n",
      "Epoch is  5\n",
      "input is  [1.         0.13533528]\n",
      "Output is  [0.45335343] target is  [0] error is  [-0.45335343]\n",
      "Weights are  \n",
      " [[-0.84306098]\n",
      " [-1.17052081]] \n",
      " bias is  [-0.10066702]\n",
      "input is  [0.36787944 0.36787944]\n",
      "Output is  [0.3012353] target is  [1] error is  [0.6987647]\n",
      "Weights are  \n",
      " [[-0.58599981]\n",
      " [-0.91345965]] \n",
      " bias is  [0.59809767]\n",
      "input is  [0.36787944 0.36787944]\n",
      "Output is  [0.51161725] target is  [1] error is  [0.48838275]\n",
      "Weights are  \n",
      " [[-0.40633384]\n",
      " [-0.73379367]] \n",
      " bias is  [1.08648042]\n",
      "input is  [0.13533528 1.        ]\n",
      "Output is  [0.57387905] target is  [0] error is  [-0.57387905]\n",
      "Weights are  \n",
      " [[-0.48399992]\n",
      " [-1.30767273]] \n",
      " bias is  [0.51260137]\n",
      "---------------------------------------------\n"
     ]
    }
   ],
   "source": [
    "w=np.zeros((hidden_output.shape[1],1))\n",
    "b=0.0\n",
    "for i in range(5):\n",
    "    print(\"Epoch is \",i+1)\n",
    "    for j in range(hidden_output.shape[0]):\n",
    "        print(\"input is \",hidden_output[j,:])\n",
    "        s=np.dot(hidden_output[j,:],w)+b\n",
    "        o=1/(1+np.exp(-s))\n",
    "        print(\"Output is \",o, \"target is \",y[j,:],\"error is \",(y[j,:]-o) )\n",
    "        if(o!=y[j,:]):\n",
    "            w+=1*(y[j,:]-o)*(hidden_output[j,:].reshape(2,1))\n",
    "            b+=1*(y[j,:]-o)\n",
    "        print(\"Weights are  \\n\",w,\"\\n bias is \",b)\n",
    "    print(\"---------------------------------------------\")"
   ]
  },
  {
   "cell_type": "code",
   "execution_count": null,
   "id": "d4df1ab6",
   "metadata": {},
   "outputs": [],
   "source": []
  }
 ],
 "metadata": {
  "kernelspec": {
   "display_name": "Python 3",
   "language": "python",
   "name": "python3"
  },
  "language_info": {
   "codemirror_mode": {
    "name": "ipython",
    "version": 3
   },
   "file_extension": ".py",
   "mimetype": "text/x-python",
   "name": "python",
   "nbconvert_exporter": "python",
   "pygments_lexer": "ipython3",
   "version": "3.8.8"
  }
 },
 "nbformat": 4,
 "nbformat_minor": 5
}
