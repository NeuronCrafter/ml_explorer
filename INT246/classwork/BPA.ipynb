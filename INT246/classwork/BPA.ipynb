{
 "cells": [
  {
   "cell_type": "code",
   "execution_count": 1,
   "source": [
    "# Forward Pass\r\n",
    "import numpy as np\r\n",
    "\r\n",
    "inp=np.array([[0.35,0.9]])\r\n",
    "t=np.array([[0.5]])\r\n",
    "w_h=np.array(([[0.1,0.4],[0.8, 0.6]]))\r\n",
    "w_o=np.array([[0.3],[0.9]])\r\n",
    "\r\n",
    "# Summation at hidden layer\r\n",
    "s_h=np.dot(inp,w_h)\r\n",
    "print(s_h)\r\n",
    "\r\n",
    "#Activation at hidden layer\r\n",
    "a_h=1/(1+np.exp(-s_h))\r\n",
    "print(a_h)\r\n",
    "\r\n",
    "#Summation at output layer\r\n",
    "s_o=np.dot(a_h,w_o)\r\n",
    "print(s_o)\r\n",
    "\r\n",
    "#Activation at output layer\r\n",
    "a_o=1/(1+np.exp(-s_o))\r\n",
    "print(a_o)"
   ],
   "outputs": [
    {
     "output_type": "stream",
     "name": "stdout",
     "text": [
      "[[0.755 0.68 ]]\n",
      "[[0.6802672 0.6637387]]\n",
      "[[0.80144499]]\n",
      "[[0.69028349]]\n"
     ]
    }
   ],
   "metadata": {}
  },
  {
   "cell_type": "code",
   "execution_count": 2,
   "source": [
    "# Backward Pass\r\n",
    "\r\n",
    "e=t[0,:]-a_o[0,:]\r\n",
    "print(e)\r\n",
    "\r\n",
    "e_o=a_o*(1-a_o)*e\r\n",
    "print(e_o)\r\n",
    "\r\n",
    "#Weight Updtion at output layer\r\n",
    "w_o+=1*e_o*(a_h.T)\r\n",
    "print(w_o)\r\n",
    "\r\n",
    "#Weight updation at hidden layer\r\n",
    "e_h= a_h*(1-a_h)*(w_o.T*e_o)\r\n",
    "print(e_h)"
   ],
   "outputs": [
    {
     "output_type": "stream",
     "name": "stdout",
     "text": [
      "[-0.19028349]\n",
      "[[-0.04068113]]\n",
      "[[0.27232597]\n",
      " [0.87299836]]\n",
      "[[-0.00240962 -0.00792648]]\n"
     ]
    }
   ],
   "metadata": {}
  },
  {
   "cell_type": "code",
   "execution_count": 3,
   "source": [
    "w_h+=1*inp*e_h\r\n",
    "print(w_h)"
   ],
   "outputs": [
    {
     "output_type": "stream",
     "name": "stdout",
     "text": [
      "[[0.09915663 0.39286617]\n",
      " [0.79915663 0.59286617]]\n"
     ]
    }
   ],
   "metadata": {}
  },
  {
   "cell_type": "code",
   "execution_count": 1,
   "source": [
    "import numpy as np\r\n",
    "\r\n",
    "def sigmoidal(x):\r\n",
    "    return 1/(1+np.exp(-x))\r\n",
    "\r\n",
    "def derivative(x):\r\n",
    "    return x*(1-x)\r\n",
    "\r\n",
    "x = np.array([[0.35,0.9]])  #input\r\n",
    "y = np.array([[0.5]]) #target\r\n",
    "h_l = 2  #no. of hidden node\r\n",
    "o_l = 1 #no. of output node\r\n",
    "epoch = 3\r\n",
    "l_r = 1  #Learning Rate\r\n",
    "w_h = np.array(([[0.1,0.4],[0.8, 0.6]]))\r\n",
    "w_o = np.array([[0.3],[0.9]])   #2x1\r\n",
    "\r\n",
    "for i in range(epoch):\r\n",
    "    print('Epoch --->> ',i+1)\r\n",
    "    for j in range(x.shape[0]):\r\n",
    "# Forward Pass\r\n",
    "\r\n",
    "        # summation of hidden layer\r\n",
    "        sum_h = np.dot(x[j,:],w_h)\r\n",
    "        # output at hidden layer\r\n",
    "        h_o = sigmoidal(sum_h) \r\n",
    "        # summation of output layer \r\n",
    "        sum_o = np.dot(h_o,w_o)\r\n",
    "        # output at output layer \r\n",
    "        o_o = sigmoidal(sum_o)\r\n",
    "        error = y[j,:]-o_o\r\n",
    "        print(\"Input is \",x[j,:],\" target is \",y[j,:], 'Output is ', o_o, 'Error is ',error)\r\n",
    "\r\n",
    "# Backward Pass \r\n",
    "        if error!=0:\r\n",
    "            # Error at output layer\r\n",
    "            outDelta = derivative(o_o)*error\r\n",
    "            # weight update at output layer \r\n",
    "            w_o += l_r*outDelta*h_o.reshape(2,1)\r\n",
    "            # Error at hidden Layer\r\n",
    "            hiddenDelta = derivative(h_o)*(w_o.T*outDelta)\r\n",
    "            w_h += l_r*hiddenDelta*x[j,:]\r\n",
    "            print(w_o,w_h)\r\n",
    "  "
   ],
   "outputs": [
    {
     "output_type": "stream",
     "name": "stdout",
     "text": [
      "Epoch --->>  1\n",
      "Input is  [0.35 0.9 ]  target is  [0.5] Output is  [0.69028349] Error is  [-0.19028349]\n",
      "[[0.27232597]\n",
      " [0.87299836]] [[0.09915663 0.39286617]\n",
      " [0.79915663 0.59286617]]\n",
      "Epoch --->>  2\n",
      "Input is  [0.35 0.9 ]  target is  [0.5] Output is  [0.68198189] Error is  [-0.18198189]\n",
      "[[0.24548575]\n",
      " [0.84688012]] [[0.09841876 0.3861325 ]\n",
      " [0.79841876 0.5861325 ]]\n",
      "Epoch --->>  3\n",
      "Input is  [0.35 0.9 ]  target is  [0.5] Output is  [0.67386354] Error is  [-0.17386354]\n",
      "[[0.21950901]\n",
      " [0.82166675]] [[0.0977798  0.37979047]\n",
      " [0.7977798  0.57979047]]\n"
     ]
    }
   ],
   "metadata": {}
  }
 ],
 "metadata": {
  "kernelspec": {
   "name": "python3",
   "display_name": "Python 3.9.5 64-bit ('Jupyter': virtualenv)"
  },
  "language_info": {
   "codemirror_mode": {
    "name": "ipython",
    "version": 3
   },
   "file_extension": ".py",
   "mimetype": "text/x-python",
   "name": "python",
   "nbconvert_exporter": "python",
   "pygments_lexer": "ipython3",
   "version": "3.9.5"
  },
  "interpreter": {
   "hash": "5946f0e949768fc552c83641cdc75dc9b58f580025925829ebc2209865a0dcbc"
  }
 },
 "nbformat": 4,
 "nbformat_minor": 5
}