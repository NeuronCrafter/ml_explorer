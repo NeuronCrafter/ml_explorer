{
 "cells": [
  {
   "cell_type": "code",
   "execution_count": 1,
   "metadata": {},
   "outputs": [
    {
     "name": "stdout",
     "output_type": "stream",
     "text": [
      "[(0.4, 10), (0.2, 20), (0.8, 30)]\n"
     ]
    }
   ],
   "source": [
    "def intersection(a=[],b=[]):\n",
    "    l=[]\n",
    "    for mema,elea in a:\n",
    "        for memb,eleb in b:\n",
    "            if elea==eleb:\n",
    "                l.append((min(mema,memb),elea))\n",
    "    return l\n",
    "a=[(0.4,10),(0.6,20),(0.8,30),(0.9,40)]\n",
    "b=[(0.8,10),(0.2,20),(0.9,30),(0.7,50),(0.5,60)]\n",
    "print(intersection(a,b))\n"
   ]
  },
  {
   "cell_type": "code",
   "execution_count": 2,
   "metadata": {},
   "outputs": [
    {
     "name": "stdout",
     "output_type": "stream",
     "text": [
      "[(0.6, 10), (0.4, 20), (0.19999999999999996, 30), (0.09999999999999998, 40)]\n",
      "[(0.19999999999999996, 10), (0.6, 20), (0.09999999999999998, 30)]\n"
     ]
    }
   ],
   "source": [
    "import math\n",
    "def compliment(a=[]):\n",
    "    l=[]\n",
    "    if(len(a)>0):\n",
    "        for mem, ele in a:\n",
    "            l.append(((float(1)-float(mem)),ele))\n",
    "    return l\n",
    "print(compliment(a))\n",
    "print(intersection(a,compliment(b)))"
   ]
  },
  {
   "cell_type": "code",
   "execution_count": 3,
   "metadata": {},
   "outputs": [
    {
     "data": {
      "text/plain": [
       "0.09999999999999998"
      ]
     },
     "execution_count": 3,
     "metadata": {},
     "output_type": "execute_result"
    }
   ],
   "source": [
    "float(1)-float(0.90)"
   ]
  },
  {
   "cell_type": "code",
   "execution_count": 4,
   "metadata": {},
   "outputs": [
    {
     "name": "stdout",
     "output_type": "stream",
     "text": [
      "[(0.8, 10), (0.6, 20), (0.9, 30), (0.9, 40), (0.2, 20), (0.7, 50), (0.5, 60)]\n"
     ]
    }
   ],
   "source": [
    "def union(a=[],b=[]):\n",
    "    l=[]\n",
    "    for mema,elea in a:\n",
    "        for memb,eleb in b:\n",
    "            if elea==eleb:\n",
    "                l.append((max(mema,memb),elea))\n",
    "                break\n",
    "        else:\n",
    "            l.append((mema,elea))\n",
    "    for memb,elemb in b:\n",
    "        for meml,eleml in l:\n",
    "            if(memb==meml):\n",
    "                break\n",
    "        else:\n",
    "            l.append((memb,elemb))\n",
    "            \n",
    "    return l\n",
    "a=[(0.4,10),(0.6,20),(0.8,30),(0.9,40)]\n",
    "b=[(0.8,10),(0.2,20),(0.9,30),(0.7,50),(0.5,60)]\n",
    "print(union(a,b))"
   ]
  }
 ],
 "metadata": {
  "interpreter": {
   "hash": "472ca499dac03712dcd9de6b93ec4232dfa67c9e4e4067f1b70bf1f2cbda8801"
  },
  "kernelspec": {
   "display_name": "Python 3.9.7 64-bit ('jupyter': virtualenv)",
   "name": "python3"
  },
  "language_info": {
   "codemirror_mode": {
    "name": "ipython",
    "version": 3
   },
   "file_extension": ".py",
   "mimetype": "text/x-python",
   "name": "python",
   "nbconvert_exporter": "python",
   "pygments_lexer": "ipython3",
   "version": "3.9.7"
  }
 },
 "nbformat": 4,
 "nbformat_minor": 5
}
