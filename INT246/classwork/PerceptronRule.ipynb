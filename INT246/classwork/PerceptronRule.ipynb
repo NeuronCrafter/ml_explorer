{
 "cells": [
  {
   "cell_type": "code",
   "execution_count": 1,
   "id": "8119f0ea",
   "metadata": {},
   "outputs": [
    {
     "name": "stdout",
     "output_type": "stream",
     "text": [
      "Epoch is  1\n",
      "Input is  [0. 0.]  Target is  [0.]\n",
      "Output is  0 error is  [0.]\n",
      "weights and bias  [0. 0. 0.]\n",
      "Input is  [0. 1.]  Target is  [1.]\n",
      "Output is  0 error is  [1.]\n",
      "weights and bias  [0.  0.5 0.5]\n",
      "Input is  [1. 0.]  Target is  [1.]\n",
      "Output is  0 error is  [1.]\n",
      "weights and bias  [0.5 0.5 1. ]\n",
      "Input is  [1. 1.]  Target is  [1.]\n",
      "Output is  1 error is  [0.]\n",
      "weights and bias  [0.5 0.5 1. ]\n",
      "---------------------------------------\n",
      "Epoch is  2\n",
      "Input is  [0. 0.]  Target is  [0.]\n",
      "Output is  1 error is  [-1.]\n",
      "weights and bias  [0.5 0.5 1. ]\n",
      "Input is  [0. 1.]  Target is  [1.]\n",
      "Output is  1 error is  [0.]\n",
      "weights and bias  [0.5 0.5 1. ]\n",
      "Input is  [1. 0.]  Target is  [1.]\n",
      "Output is  1 error is  [0.]\n",
      "weights and bias  [0.5 0.5 1. ]\n",
      "Input is  [1. 1.]  Target is  [1.]\n",
      "Output is  1 error is  [0.]\n",
      "weights and bias  [0.5 0.5 1. ]\n",
      "---------------------------------------\n",
      "Epoch is  3\n",
      "Input is  [0. 0.]  Target is  [0.]\n",
      "Output is  1 error is  [-1.]\n",
      "weights and bias  [0.5 0.5 1. ]\n",
      "Input is  [0. 1.]  Target is  [1.]\n",
      "Output is  1 error is  [0.]\n",
      "weights and bias  [0.5 0.5 1. ]\n",
      "Input is  [1. 0.]  Target is  [1.]\n",
      "Output is  1 error is  [0.]\n",
      "weights and bias  [0.5 0.5 1. ]\n",
      "Input is  [1. 1.]  Target is  [1.]\n",
      "Output is  1 error is  [0.]\n",
      "weights and bias  [0.5 0.5 1. ]\n",
      "---------------------------------------\n"
     ]
    }
   ],
   "source": [
    "#PERCEPTRON FOR OR GATE USING PERCEPTRON RULE\n",
    "import numpy as np\n",
    "x=np.array([[0,0],[0,1],[1,0],[1,1]],dtype=np.float32)\n",
    "y=np.array([[0],[1],[1],[1]],dtype=np.float32)\n",
    "w=np.array([0,0,0],dtype=np.float32) # first two elements are w1 and w2 and 3rd is bias\n",
    "for j in range(3):\n",
    "    print(\"Epoch is \",j+1)\n",
    "    for i in range(x.shape[0]):\n",
    "        print(\"Input is \",x[i,:],\" Target is \",y[i,:])\n",
    "        s=np.dot(x[i,:],w[0:2])+w[2]\n",
    "        if(s>=1):\n",
    "            out=1\n",
    "        else:\n",
    "            out=0\n",
    "        print(\"Output is \",out, \"error is \",y[i,:]-out)\n",
    "        if(y[i,:]!=out):\n",
    "            w[0:2]+=0.5*x[i,:]*y[i,:]\n",
    "            w[2]+=0.5*y[i,:]\n",
    "        print(\"weights and bias \",w)\n",
    "    print(\"---------------------------------------\")"
   ]
  },
  {
   "cell_type": "code",
   "execution_count": null,
   "id": "01edb760",
   "metadata": {},
   "outputs": [],
   "source": []
  }
 ],
 "metadata": {
  "kernelspec": {
   "display_name": "Python 3 (ipykernel)",
   "language": "python",
   "name": "python3"
  },
  "language_info": {
   "codemirror_mode": {
    "name": "ipython",
    "version": 3
   },
   "file_extension": ".py",
   "mimetype": "text/x-python",
   "name": "python",
   "nbconvert_exporter": "python",
   "pygments_lexer": "ipython3",
   "version": "3.9.5"
  }
 },
 "nbformat": 4,
 "nbformat_minor": 5
}
