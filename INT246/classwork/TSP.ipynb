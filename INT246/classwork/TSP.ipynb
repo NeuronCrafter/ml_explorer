{
 "cells": [
  {
   "cell_type": "code",
   "execution_count": 1,
   "id": "8beab686",
   "metadata": {},
   "outputs": [],
   "source": [
    "import numpy as np\n",
    "import random as rd\n",
    "distance = np.array([[0,10,50,60,10],\n",
    "                     [10,0,88,45,32],\n",
    "                     [50,88,0,35,67],\n",
    "                     [60,45,35,0,21],\n",
    "                     [10,32,67,21,0]])"
   ]
  },
  {
   "cell_type": "code",
   "execution_count": 2,
   "id": "b141196b",
   "metadata": {},
   "outputs": [],
   "source": [
    "#  Population initialization\n",
    "population_size = 6\n",
    "chromosome_size = 5\n",
    "population = np.zeros((population_size,chromosome_size),dtype=np.int32)\n",
    "for i in range(population_size):\n",
    "    l = [0,1,2,3,4]\n",
    "    rd.shuffle(l)\n",
    "    population[i] = l"
   ]
  },
  {
   "cell_type": "code",
   "execution_count": 3,
   "id": "0d8e376d",
   "metadata": {},
   "outputs": [
    {
     "name": "stdout",
     "output_type": "stream",
     "text": [
      "[0.005813953488372093, 0.0044444444444444444, 0.005235602094240838, 0.00546448087431694, 0.005154639175257732, 0.0072992700729927005]\n"
     ]
    }
   ],
   "source": [
    "# Fitness Evalution\n",
    "def fitness(route):\n",
    "    total_distance = 0\n",
    "    for i in range(len(route)-1):\n",
    "        total_distance += distance[route[i],route[i+1]]\n",
    "    return 1/total_distance\n",
    "fit = []\n",
    "for i in population:\n",
    "    fit.append(fitness(i))\n",
    "print(fit)"
   ]
  },
  {
   "cell_type": "code",
   "execution_count": 4,
   "id": "8c4b0dd3",
   "metadata": {},
   "outputs": [
    {
     "name": "stdout",
     "output_type": "stream",
     "text": [
      "[[4 1 0 3 2]\n",
      " [4 2 3 0 1]\n",
      " [1 3 4 2 0]\n",
      " [3 4 1 2 0]]\n"
     ]
    }
   ],
   "source": [
    "# Selection\n",
    "def selection(population, fitness, no_of_parents):\n",
    "    parent_selection = np.zeros((no_of_parents,population.shape[1]), dtype = np.int32)\n",
    "    for i in range(no_of_parents):\n",
    "        index = np.argmax(fitness)\n",
    "        parent_selection[i] = population[index]\n",
    "        fitness[index] = 0.00000\n",
    "    return parent_selection\n",
    "parent_selection = selection(population,fit.copy(),4)\n",
    "print(parent_selection)"
   ]
  },
  {
   "cell_type": "code",
   "execution_count": 5,
   "id": "53509cac",
   "metadata": {},
   "outputs": [
    {
     "name": "stdout",
     "output_type": "stream",
     "text": [
      "Random Number is  2\n",
      "Random Number is  0\n",
      "[[4 1 0 2 3]\n",
      " [4 2 3 0 0]\n",
      " [1 3 4 2 0]\n",
      " [3 0 0 0 0]]\n"
     ]
    }
   ],
   "source": [
    "# Crossover\n",
    "def crossover(parent_selection):\n",
    "    off_spring = np.zeros(parent_selection.shape, dtype = np.int32)\n",
    "    for i in range(0, parent_selection.shape[0],2):\n",
    "        r = rd.randint(0,3)\n",
    "        print(\"Random Number is \", r)\n",
    "        off_spring[i,:r+1] = parent_selection[i,:r+1]\n",
    "        off_spring[i+1,:r+1] = parent_selection[i+1,:r+1]\n",
    "        pos = r + 1\n",
    "        for j in parent_selection[i+1]:\n",
    "            if j not in off_spring[i,:pos]:\n",
    "                off_spring[i][pos] = j\n",
    "                pos += 1\n",
    "    return off_spring\n",
    "\n",
    "off_spring = crossover(parent_selection)\n",
    "print(off_spring)"
   ]
  },
  {
   "cell_type": "code",
   "execution_count": 6,
   "id": "597d8265",
   "metadata": {},
   "outputs": [],
   "source": [
    "# Mutation\n",
    "def mutation(off_spring):\n",
    "    rand_r = rd.randint(0, 3)\n",
    "    c1 = rd.randint(0, 4)\n",
    "    c2 = rd.randint(0, 4)\n",
    "    print(\"Row: {} Column1: {} Column2: {}\".format(rand_r,c1,c2))\n",
    "    off_spring[rand_r, c1], off_spring[rand_r, c2] = off_spring[rand_r, c2], off_spring[rand_r, c1]"
   ]
  },
  {
   "cell_type": "code",
   "execution_count": 7,
   "id": "9a4b511e",
   "metadata": {},
   "outputs": [
    {
     "name": "stdout",
     "output_type": "stream",
     "text": [
      "Row: 2 Column1: 1 Column2: 4\n"
     ]
    },
    {
     "data": {
      "text/plain": [
       "array([[4, 1, 0, 2, 3],\n",
       "       [4, 2, 3, 0, 0],\n",
       "       [1, 0, 4, 2, 3],\n",
       "       [3, 0, 0, 0, 0]])"
      ]
     },
     "execution_count": 7,
     "metadata": {},
     "output_type": "execute_result"
    }
   ],
   "source": [
    "mutation(off_spring)\n",
    "off_spring"
   ]
  },
  {
   "cell_type": "code",
   "execution_count": 8,
   "id": "38c93aad",
   "metadata": {},
   "outputs": [
    {
     "name": "stdout",
     "output_type": "stream",
     "text": [
      "[0.01298701 0.00724638 0.01098901 0.00666667 0.00555556]\n"
     ]
    }
   ],
   "source": [
    "print(fitness(off_spring))"
   ]
  },
  {
   "cell_type": "code",
   "execution_count": 9,
   "id": "e4b02dc6",
   "metadata": {},
   "outputs": [
    {
     "name": "stdout",
     "output_type": "stream",
     "text": [
      "[0.01298701 0.00694444 0.00884956 0.00909091 0.01020408]\n"
     ]
    }
   ],
   "source": [
    "print(fitness(parent_selection))"
   ]
  },
  {
   "cell_type": "code",
   "execution_count": null,
   "id": "f9e9e594",
   "metadata": {},
   "outputs": [],
   "source": []
  }
 ],
 "metadata": {
  "kernelspec": {
   "display_name": "Python 3 (ipykernel)",
   "language": "python",
   "name": "python3"
  },
  "language_info": {
   "codemirror_mode": {
    "name": "ipython",
    "version": 3
   },
   "file_extension": ".py",
   "mimetype": "text/x-python",
   "name": "python",
   "nbconvert_exporter": "python",
   "pygments_lexer": "ipython3",
   "version": "3.9.7"
  }
 },
 "nbformat": 4,
 "nbformat_minor": 5
}
