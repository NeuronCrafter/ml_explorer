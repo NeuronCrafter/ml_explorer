{
 "cells": [
  {
   "cell_type": "code",
   "execution_count": 2,
   "source": [
    "import numpy as np\r\n",
    "class SOM:\r\n",
    "    def __init__(self,ep,l=1.0):\r\n",
    "        self.ep=ep\r\n",
    "        self.l=l\r\n",
    "    def Euclidean(self,x,w):\r\n",
    "        s=0\r\n",
    "        for i in range(len(x)):\r\n",
    "            s+=(x[i]-w[i])**2\r\n",
    "        return s\r\n",
    "    def fit(self,x,w):\r\n",
    "        self.w=w\r\n",
    "        for i in range(self.ep):\r\n",
    "            print(\"Epoch is \",i+1)\r\n",
    "            \r\n",
    "            for j in range(x.shape[0]):\r\n",
    "                print(\"input is \",x[j,:])\r\n",
    "                d=[]\r\n",
    "                for k in range(self.w.shape[0]):\r\n",
    "                    print(self.Euclidean(x[j,:],self.w[k,:]))\r\n",
    "                    d.append(self.Euclidean(x[j,:],self.w[k,:]))\r\n",
    "                print(d)\r\n",
    "                index=np.argmin(d)\r\n",
    "                print(\"Winner is \",index)\r\n",
    "                self.w[index,:]+=l_r*(x[j,:]-self.w[index,:])\r\n",
    "                print(self.w)\r\n",
    "            print('--------------------')\r\n",
    "            self.l*=0.5\r\n",
    "    def predict(self,x):\r\n",
    "        d=[]\r\n",
    "        for k in range(self.w.shape[0]):\r\n",
    "            #print(self.Euclidean(x,self.w[k,:]))\r\n",
    "            d.append(self.Euclidean(x,self.w[k,:]))\r\n",
    "        print(d)\r\n",
    "        index=np.argmin(d)\r\n",
    "        return (\"Winner is \"+str(index))\r\n",
    "x=np.array([[1,1,0,0],[0,0,1,1]],dtype=np.float32)\r\n",
    "w=np.array([[0.8,0.7,0.2,0.2],[0.1,0.2,0.3,0.4]])\r\n",
    "l_r=1.0\r\n",
    "sm=SOM(2,1)\r\n",
    "sm.fit(x,w)\r\n",
    "print(sm.predict(np.array([1,1,0,0], dtype=np.float32)))"
   ],
   "outputs": [
    {
     "output_type": "stream",
     "name": "stdout",
     "text": [
      "Epoch is  1\n",
      "input is  [1. 1. 0. 0.]\n",
      "0.21000000000000002\n",
      "1.7000000000000002\n",
      "[0.21000000000000002, 1.7000000000000002]\n",
      "Winner is  0\n",
      "[[1.  1.  0.  0. ]\n",
      " [0.1 0.2 0.3 0.4]]\n",
      "input is  [0. 0. 1. 1.]\n",
      "4.0\n",
      "0.8999999999999999\n",
      "[4.0, 0.8999999999999999]\n",
      "Winner is  1\n",
      "[[1. 1. 0. 0.]\n",
      " [0. 0. 1. 1.]]\n",
      "--------------------\n",
      "Epoch is  2\n",
      "input is  [1. 1. 0. 0.]\n",
      "0.0\n",
      "4.0\n",
      "[0.0, 4.0]\n",
      "Winner is  0\n",
      "[[1. 1. 0. 0.]\n",
      " [0. 0. 1. 1.]]\n",
      "input is  [0. 0. 1. 1.]\n",
      "4.0\n",
      "0.0\n",
      "[4.0, 0.0]\n",
      "Winner is  1\n",
      "[[1. 1. 0. 0.]\n",
      " [0. 0. 1. 1.]]\n",
      "--------------------\n",
      "[0.0, 4.0]\n",
      "Winner is 0\n"
     ]
    }
   ],
   "metadata": {}
  },
  {
   "cell_type": "code",
   "execution_count": null,
   "source": [],
   "outputs": [],
   "metadata": {}
  }
 ],
 "metadata": {
  "kernelspec": {
   "name": "python3",
   "display_name": "Python 3.9.5 64-bit ('Jupyter': virtualenv)"
  },
  "language_info": {
   "codemirror_mode": {
    "name": "ipython",
    "version": 3
   },
   "file_extension": ".py",
   "mimetype": "text/x-python",
   "name": "python",
   "nbconvert_exporter": "python",
   "pygments_lexer": "ipython3",
   "version": "3.9.5"
  },
  "interpreter": {
   "hash": "5946f0e949768fc552c83641cdc75dc9b58f580025925829ebc2209865a0dcbc"
  }
 },
 "nbformat": 4,
 "nbformat_minor": 5
}